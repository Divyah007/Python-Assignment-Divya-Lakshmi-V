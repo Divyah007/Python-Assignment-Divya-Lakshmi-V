{
 "cells": [
  {
   "cell_type": "markdown",
   "metadata": {},
   "source": [
    "# Python assignment"
   ]
  },
  {
   "cell_type": "markdown",
   "metadata": {},
   "source": [
    "1. Accept string from user and output it by removing duplicate characters\n",
    "\n",
    "\n",
    "\n",
    "    Example:-\n",
    "\n",
    "    I/P:  \"ABBCDCANP\"\n",
    "\n",
    "    O/P:  \"ABCDNP\""
   ]
  },
  {
   "cell_type": "code",
   "execution_count": 44,
   "metadata": {},
   "outputs": [
    {
     "name": "stdout",
     "output_type": "stream",
     "text": [
      "I/P: ABBCDCANP\n",
      "O/P: ABCDNP\n"
     ]
    }
   ],
   "source": [
    "def removeDuplicate(str):\n",
    "    setVariable=set(str)\n",
    "    listVariable=sorted(setVariable)\n",
    "    listToString=\"\"   \n",
    "    for i in listVariable:\n",
    "      listToString += i \n",
    "    print(\"O/P:\",listToString)\n",
    "str=input(\"I/P: \")\n",
    "removeDuplicate(str)\n",
    "    \n",
    "    "
   ]
  },
  {
   "cell_type": "markdown",
   "metadata": {},
   "source": [
    "-------------------------------------------------------------------------------------------------------------------------------"
   ]
  },
  {
   "cell_type": "markdown",
   "metadata": {},
   "source": [
    "2. Consider a numeric array of size 11.\n",
    "\n",
    "   Five elements have two occurrences, one element has a single occurrence.\n",
    "\n",
    "   Find the element with a single occurrence.\n",
    "\n",
    "   \n",
    "\n",
    "   Array: 1,2,3,6,1,2,3,4,4,5,5\n",
    "\n",
    "   Output:6"
   ]
  },
  {
   "cell_type": "code",
   "execution_count": 54,
   "metadata": {},
   "outputs": [
    {
     "name": "stdout",
     "output_type": "stream",
     "text": [
      "Enter the no. of elements: 11\n",
      "\n",
      "Enter the element 1 : 1\n",
      "\n",
      "Enter the element 2 : 2\n",
      "\n",
      "Enter the element 3 : 3\n",
      "\n",
      "Enter the element 4 : 6\n",
      "\n",
      "Enter the element 5 : 1\n",
      "\n",
      "Enter the element 6 : 2\n",
      "\n",
      "Enter the element 7 : 3\n",
      "\n",
      "Enter the element 8 : 4\n",
      "\n",
      "Enter the element 9 : 4\n",
      "\n",
      "Enter the element 10 : 5\n",
      "\n",
      "Enter the element 11 : 5\n",
      "\n",
      "ARRAY:  [1, 2, 3, 6, 1, 2, 3, 4, 4, 5, 5]\n",
      "\n",
      "Output:  6\n"
     ]
    }
   ],
   "source": [
    "def singleOccurance(liST):\n",
    "    for i in liST:\n",
    "        if(liST.count(i)==1):\n",
    "          print(\"Output: \",i)\n",
    "liST= []\n",
    "n = int(input(\"Enter the no. of elements: \"))\n",
    "print()\n",
    "j=1\n",
    "for i in range(0, n):\n",
    "    ele = int(input(\"Enter the element {} : \".format(j)))\n",
    "    j=j+1\n",
    "    liST.append(ele)\n",
    "    print()\n",
    "print(\"ARRAY: \",liST)\n",
    "print()\n",
    "singleOccurance(liST)\n",
    "         \n",
    "    \n",
    "\n",
    "    #1,2,3,6,1,2,3,4,4,5,5"
   ]
  },
  {
   "cell_type": "markdown",
   "metadata": {
    "scrolled": true
   },
   "source": [
    "-------------------------------------------------------------------------------------------------------------------------------"
   ]
  },
  {
   "cell_type": "markdown",
   "metadata": {},
   "source": [
    "3. Consider an array of size 100 with strings.\n",
    "\n",
    "   The array has multiple \"No\", followed by single \"Found\", followed by multiple \"Yes\"\n",
    "\n",
    "   Example: \"No\",\"No\",\"No\"....\"No\",\"Found\",\"Yes\",....\"Yes\",\"Yes\"\n",
    "\n",
    "\n",
    "   Find the index of \"Found\", following below conditions:\n",
    "\n",
    "    i) Print every element you check in array \n",
    "\n",
    "   ii) you cannot check \"NO\" more than once\n",
    "\n",
    "   iii) you can check \"yes\" any number of times, but try to reduce number of \"yes\" checks"
   ]
  },
  {
   "cell_type": "code",
   "execution_count": 43,
   "metadata": {},
   "outputs": [
    {
     "name": "stdout",
     "output_type": "stream",
     "text": [
      "Yes\n",
      "Yes\n",
      "Yes\n",
      "Yes\n",
      "No\n",
      "Yes\n",
      "Yes\n",
      "Yes\n",
      "The index of Found is  50\n"
     ]
    }
   ],
   "source": [
    "def indexFound(strArray):\n",
    " number=len(strArray)-1\n",
    " count=15\n",
    " while(True):\n",
    "        if(strArray[number]==\"Found\"):\n",
    "           print(\"The index of Found is \",number)\n",
    "           break\n",
    "        elif(strArray[number]==\"No\"):\n",
    "           print(strArray[number])\n",
    "           number=number+15\n",
    "           count=1\n",
    "        else:\n",
    "           print(strArray[number])\n",
    "        number=number-count\n",
    "    \n",
    "strArray=[\"No\",\"No\",\"No\",\"No\",\"No\",\"No\",\"No\",\"No\",\"No\",\"No\",\n",
    "   \"No\",\"No\",\"No\",\"No\",\"No\",\"No\",\"No\",\"No\",\"No\",\"No\",\n",
    "   \"No\",\"No\",\"No\",\"No\",\"No\",\"No\",\"No\",\"No\",\"No\",\"No\",\n",
    "   \"No\",\"No\",\"No\",\"No\",\"No\",\"No\",\"No\",\"No\",\"No\",\"No\",\n",
    "   \"No\",\"No\",\"No\",\"No\",\"No\",\"No\",\"No\",\"No\",\"No\",\"No\",\n",
    "   \"Found\",\n",
    "   \"Yes\",\"Yes\",\"Yes\",\"Yes\",\"Yes\",\"Yes\",\"Yes\",\"Yes\",\"Yes\",\"Yes\",\n",
    "    \"Yes\",\"Yes\",\"Yes\",\"Yes\",\"Yes\",\"Yes\",\"Yes\",\"Yes\",\"Yes\",\"Yes\",\n",
    "    \"Yes\",\"Yes\",\"Yes\",\"Yes\",\"Yes\",\"Yes\",\"Yes\",\"Yes\",\"Yes\",\"Yes\",\n",
    "    \"Yes\",\"Yes\",\"Yes\",\"Yes\",\"Yes\",\"Yes\",\"Yes\",\"Yes\",\"Yes\",\"Yes\",\n",
    "    \"Yes\",\"Yes\",\"Yes\",\"Yes\",\"Yes\",\"Yes\",\"Yes\",\"Yes\",\"Yes\"]\n",
    "indexFound(strArray)\n",
    "\n",
    "\n",
    "    "
   ]
  },
  {
   "cell_type": "markdown",
   "metadata": {},
   "source": [
    "-------------------------------------------------------------------------------------------------------------------------------"
   ]
  }
 ],
 "metadata": {
  "kernelspec": {
   "display_name": "Python 3",
   "language": "python",
   "name": "python3"
  },
  "language_info": {
   "codemirror_mode": {
    "name": "ipython",
    "version": 3
   },
   "file_extension": ".py",
   "mimetype": "text/x-python",
   "name": "python",
   "nbconvert_exporter": "python",
   "pygments_lexer": "ipython3",
   "version": "3.8.3"
  }
 },
 "nbformat": 4,
 "nbformat_minor": 4
}
